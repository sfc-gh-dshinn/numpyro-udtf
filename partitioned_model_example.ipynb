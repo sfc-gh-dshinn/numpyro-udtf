{
 "metadata": {
  "kernelspec": {
   "display_name": "Streamlit Notebook",
   "name": "streamlit"
  },
  "lastEditStatus": {
   "notebookId": "nljn3rfiqqsoznlmxtqb",
   "authorId": "2474798485967",
   "authorName": "DSHINN",
   "authorEmail": "david.shinn@snowflake.com",
   "sessionId": "a37b1366-8122-4f36-9886-b2ae0a692f2d",
   "lastEditTime": 1739490654351
  }
 },
 "nbformat_minor": 5,
 "nbformat": 4,
 "cells": [
  {
   "cell_type": "code",
   "id": "f9b7630d-44a7-4a6c-9571-91cf69ef9b85",
   "metadata": {
    "language": "python",
    "name": "cell21"
   },
   "outputs": [],
   "source": "DATABASE = 'EM_TESTS'\nSCHEMA = 'PARTITIONED_MODELS'",
   "execution_count": null
  },
  {
   "cell_type": "code",
   "id": "3775908f-ca36-4846-8f38-5adca39217f2",
   "metadata": {
    "language": "python",
    "name": "cell1",
    "codeCollapsed": false
   },
   "source": "# Import python packages\nimport streamlit as st\nimport pandas as pd\nimport numpy as np\nfrom sklearn.mixture import GaussianMixture\nimport snowflake.snowpark.functions as F\n\nfrom snowflake.ml.model import custom_model\nfrom snowflake.ml.registry import Registry\nfrom snowflake.ml.model.model_signature import ModelSignature, FeatureSpec, DataType\n\n\n# We can also use Snowpark for our analyses!\nfrom snowflake.snowpark.context import get_active_session\nsession = get_active_session()",
   "execution_count": null,
   "outputs": []
  },
  {
   "cell_type": "code",
   "id": "f80608a8-69d0-42b4-a6e0-8314c3185582",
   "metadata": {
    "language": "python",
    "name": "cell4",
    "codeCollapsed": false
   },
   "outputs": [],
   "source": "n_rows = 2000\n# Create the dataframe of data: 2 categories, 2 values\ndf = pd.DataFrame({\n    'CURRENCY': np.random.choice(['USD', 'EUR', 'CAN'], size=n_rows),\n    'COMPANY': np.random.choice(['COMP_A', 'COMP_B', 'COMP_C', 'COMP_D'], size=n_rows),\n    'FOO': np.random.normal(size=n_rows),\n    'BAR': np.random.binomial(n=5, p=.5, size=n_rows),\n})\ndf['BAR'] = df['BAR'].astype(float)\ndf.head()",
   "execution_count": null
  },
  {
   "cell_type": "code",
   "id": "6d83f105-bbea-4d5d-924f-041871b7496e",
   "metadata": {
    "language": "python",
    "name": "cell6",
    "codeCollapsed": false
   },
   "outputs": [],
   "source": "snowpark_df = session.create_dataframe(df)\nsnowpark_df.write.mode(\"overwrite\").save_as_table(f\"{DATABASE}.{SCHEMA}.DATA\")",
   "execution_count": null
  },
  {
   "cell_type": "code",
   "id": "f3e28182-bae0-4d9d-a1c3-24b7b3170812",
   "metadata": {
    "language": "python",
    "name": "cell10",
    "codeCollapsed": false
   },
   "outputs": [],
   "source": "class ExamplePartitionedModel(custom_model.CustomModel):\n    @custom_model.partitioned_inference_api\n    def predict(self, df: pd.DataFrame) -> pd.DataFrame:\n        from sklearn.mixture import GaussianMixture\n        gm = GaussianMixture(n_components=2, random_state=0)\n        gm.fit(df[['__TARGET__']])\n    \n        output_df = pd.DataFrame([{\n            'MEANS': list(gm.means_.flatten()),\n            'COVARIANCES': list(gm.covariances_.flatten()),\n        }])\n        return output_df\n\nmy_model = ExamplePartitionedModel()",
   "execution_count": null
  },
  {
   "cell_type": "code",
   "id": "dd85deef-e7db-4bb0-acc2-e033b01c7d82",
   "metadata": {
    "language": "python",
    "name": "cell13",
    "collapsed": false,
    "codeCollapsed": false
   },
   "outputs": [],
   "source": "# Test that it works:\npreds = my_model.predict(snowpark_df.rename(F.col(\"FOO\"), \"__TARGET__\").filter(F.col(\"CURRENCY\") == 'USD').to_pandas())\npreds",
   "execution_count": null
  },
  {
   "cell_type": "code",
   "id": "11eb8761-00ec-49d5-8798-48f398a4783d",
   "metadata": {
    "language": "python",
    "name": "cell12",
    "codeCollapsed": false,
    "collapsed": false
   },
   "outputs": [],
   "source": "reg = Registry(session=session, database_name=DATABASE, schema_name=SCHEMA)\n#reg.delete_model(\"my_model\")  # use this to clear the model for rapid iteration\nmodel_version = reg.log_model(my_model,\n    model_name=\"my_model\",\n    version_name=\"v1\",\n    options={\"function_type\": \"TABLE_FUNCTION\"},\n    conda_dependencies=[\"pandas\", \"scikit-learn\"],\n    signatures={\n        \"predict\": ModelSignature(\n            inputs=[\n                FeatureSpec(dtype=DataType.STRING, name='PARTITION'),\n                FeatureSpec(dtype=DataType.FLOAT, name='__TARGET__'),\n            ],\n            outputs=[\n                FeatureSpec(dtype=DataType.FLOAT, name='MEANS', shape=(1, 2)),\n                FeatureSpec(dtype=DataType.FLOAT, name='COVARIANCES', shape=(1, 2)),\n            ],\n        )\n    }\n)",
   "execution_count": null
  },
  {
   "cell_type": "code",
   "id": "489fe0a3-3acc-4d36-8fe4-35e11cdfd32d",
   "metadata": {
    "language": "python",
    "name": "cell19",
    "codeCollapsed": false
   },
   "outputs": [],
   "source": "# Cumbersome way of dealing with column renames\nresult = model_version.run(snowpark_df \\\n                           .rename(F.col(\"FOO\"), \"__TARGET__\") \\\n                           .rename(F.col(\"COMPANY\"), \"PARTITION\") \\\n                           .select(\"PARTITION\", \"__TARGET__\"),\n                           partition_column='PARTITION')\nresult.rename(F.col(\"PARTITION\"), \"COMPANY\")",
   "execution_count": null
  },
  {
   "cell_type": "code",
   "id": "f21b189f-3ebf-4b41-bc6c-8b09ea14c38c",
   "metadata": {
    "language": "python",
    "name": "cell24"
   },
   "outputs": [],
   "source": "def split_cols(snowpark_df, column_to_split, output_column_names, delimiter='|'):\n    \"\"\"\n    Snowpark operations to extract the components in a combined string\n    \n    Assumes order of output_column_names are in the same order in the column_to_split string\n    \"\"\"\n    snowpark_df = snowpark_df.with_column(\"___SPLIT\", F.split(F.col(column_to_split), F.lit(delimiter)))\n    for i, col in enumerate(output_column_names):\n        snowpark_df = snowpark_df.with_column(col, F.get(F.col(\"___SPLIT\"), F.lit(i)))\n        snowpark_df = snowpark_df.with_column(col, F.regexp_replace(F.col(col), '^\"(.*)\"$', '\\1'))  # Stupid step needed to get rid of extra \"\n    return snowpark_df.drop(\"___SPLIT\", column_to_split)",
   "execution_count": null
  },
  {
   "cell_type": "code",
   "id": "86b2bb34-c668-4aa7-bbd2-28cb3dcf8f8e",
   "metadata": {
    "language": "python",
    "name": "cell22",
    "codeCollapsed": false
   },
   "outputs": [],
   "source": "def call_model(model_version, snowpark_df, group_columns, target_column):\n    # Prepare the grouping column\n    if isinstance(group_columns, str):\n        snowpark_df = snowpark_df.rename(F.col(group_columns), \"PARTITION\")\n    elif isinstance(group_columns, (list, tuple)):\n        concat_columns = []\n        for group_column in group_columns:\n            concat_columns.append(F.col(group_column))\n            concat_columns.append(F.lit(\"|\"))\n        concat_columns.pop(-1)\n        snowpark_df = snowpark_df.with_column(\"PARTITION\", F.concat(*concat_columns))\n\n    # Prepare the target column\n    snowpark_df = snowpark_df.rename(F.col(target_column), '__TARGET__')\n\n    # Call the model predictions\n    result_df = model_version.run(snowpark_df, partition_column='PARTITION')\n\n    # Prepare the grouping column for output\n    if isinstance(group_columns, str):\n        result_df = result_df.rename(F.col(\"PARTITION\"), group_columns)\n    elif isinstance(group_columns, (list, tuple)):\n        result_df = split_cols(result_df, 'PARTITION', group_columns, delimiter='|')\n\n    return result_df.drop(\"__TARGET__\")",
   "execution_count": null
  },
  {
   "cell_type": "markdown",
   "id": "8fa01d41-3362-4f32-8236-549514f7cd5f",
   "metadata": {
    "name": "cell2",
    "collapsed": false
   },
   "source": "# Calling a model with a single column group"
  },
  {
   "cell_type": "code",
   "id": "6b803565-e5f5-4f4e-b874-3b9686856323",
   "metadata": {
    "language": "python",
    "name": "cell9",
    "codeCollapsed": false
   },
   "outputs": [],
   "source": "call_model(model_version, snowpark_df, group_columns='CURRENCY', target_column='FOO')",
   "execution_count": null
  },
  {
   "cell_type": "markdown",
   "id": "f2ed9666-99db-4de5-9b98-6644b7c9d397",
   "metadata": {
    "name": "cell3",
    "collapsed": false
   },
   "source": "# Calling a model with a composite group"
  },
  {
   "cell_type": "code",
   "id": "ec31ac1c-5428-48d4-95ed-783ae92424af",
   "metadata": {
    "language": "python",
    "name": "cell23",
    "codeCollapsed": false,
    "collapsed": false
   },
   "outputs": [],
   "source": "call_model(model_version, snowpark_df, group_columns=('COMPANY', 'CURRENCY'), target_column='FOO')",
   "execution_count": null
  }
 ]
}